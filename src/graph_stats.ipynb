{
 "cells": [
  {
   "cell_type": "code",
   "execution_count": null,
   "metadata": {},
   "outputs": [],
   "source": [
    "import pandas as pd\n",
    "from graph_drawer import get_nx_representation\n",
    "from graph_stats import compute_graph_statistics, draw_degree_dist"
   ]
  },
  {
   "cell_type": "code",
   "execution_count": null,
   "metadata": {},
   "outputs": [],
   "source": [
    "df = pd.read_csv('graphs.csv')"
   ]
  },
  {
   "cell_type": "code",
   "execution_count": null,
   "metadata": {},
   "outputs": [],
   "source": [
    "graph_statistics_list = []\n",
    "\n",
    "# Compute statistics for each graph\n",
    "for index, row in df.iterrows():\n",
    "    label = row['label']\n",
    "    graph = row['graph']\n",
    "\n",
    "    try:\n",
    "        graph_stats = compute_graph_statistics(get_nx_representation(graph))\n",
    "        graph_stats['graph_id'] = index\n",
    "        graph_stats['label'] = label\n",
    "    except:\n",
    "        pass\n",
    "    else:\n",
    "        graph_statistics_list.append(graph_stats)\n",
    "    \n",
    "    print(f'{index+1}/{df.shape[0]}', end='\\r')\n",
    "\n",
    "# Create a DataFrame from the list of statistics\n",
    "df_stats = pd.DataFrame(graph_statistics_list)"
   ]
  },
  {
   "cell_type": "code",
   "execution_count": null,
   "metadata": {},
   "outputs": [],
   "source": [
    "# get one row for every graph label\n",
    "df_stats.groupby('label', group_keys=False).apply(lambda group : group.head(1))"
   ]
  },
  {
   "cell_type": "code",
   "execution_count": null,
   "metadata": {},
   "outputs": [],
   "source": [
    "# draw degree distributons\n",
    "df_stats.groupby('label', group_keys=False) \\\n",
    ".apply(lambda group : group.head(1)) \\\n",
    ".apply(lambda row : draw_degree_dist(row['DegreeDistribution'], f'Degree distribution for: {row[\"label\"]}, graph id: {row[\"graph_id\"]}'), axis=1)"
   ]
  }
 ],
 "metadata": {
  "kernelspec": {
   "display_name": "venv",
   "language": "python",
   "name": "python3"
  },
  "language_info": {
   "codemirror_mode": {
    "name": "ipython",
    "version": 3
   },
   "file_extension": ".py",
   "mimetype": "text/x-python",
   "name": "python",
   "nbconvert_exporter": "python",
   "pygments_lexer": "ipython3",
   "version": "3.9.13"
  }
 },
 "nbformat": 4,
 "nbformat_minor": 2
}
