{
 "cells": [
  {
   "cell_type": "code",
   "execution_count": 1,
   "metadata": {},
   "outputs": [],
   "source": [
    "import pandas as pd\n",
    "import matplotlib.pyplot as plt\n",
    "from graph_drawer import draw\n",
    "from classifier import train_model"
   ]
  },
  {
   "cell_type": "markdown",
   "metadata": {},
   "source": [
    "# View data"
   ]
  },
  {
   "cell_type": "code",
   "execution_count": 4,
   "metadata": {},
   "outputs": [
    {
     "data": {
      "text/html": [
       "<div>\n",
       "<style scoped>\n",
       "    .dataframe tbody tr th:only-of-type {\n",
       "        vertical-align: middle;\n",
       "    }\n",
       "\n",
       "    .dataframe tbody tr th {\n",
       "        vertical-align: top;\n",
       "    }\n",
       "\n",
       "    .dataframe thead th {\n",
       "        text-align: right;\n",
       "    }\n",
       "</style>\n",
       "<table border=\"1\" class=\"dataframe\">\n",
       "  <thead>\n",
       "    <tr style=\"text-align: right;\">\n",
       "      <th></th>\n",
       "      <th>client</th>\n",
       "      <th>server</th>\n",
       "      <th>datasource</th>\n",
       "      <th>graph</th>\n",
       "      <th>label</th>\n",
       "    </tr>\n",
       "  </thead>\n",
       "  <tbody>\n",
       "    <tr>\n",
       "      <th>0</th>\n",
       "      <td>10.122.1.103:54802</td>\n",
       "      <td>10.124.1.194:3128</td>\n",
       "      <td>VPN/NONVPN NETWORK APPLICATION TRAFFIC DATASET...</td>\n",
       "      <td>0,1,2 0,2,0.5 0,5,3851.33 0,6,9.5 0,8,5754 0,9...</td>\n",
       "      <td>nonvpn-netflix</td>\n",
       "    </tr>\n",
       "    <tr>\n",
       "      <th>1</th>\n",
       "      <td>10.122.1.103:54800</td>\n",
       "      <td>10.124.1.194:3128</td>\n",
       "      <td>VPN/NONVPN NETWORK APPLICATION TRAFFIC DATASET...</td>\n",
       "      <td>0,1,5.25 0,2,0 0,3,2 0,5,3318.57 0,6,8.66667 0...</td>\n",
       "      <td>nonvpn-netflix</td>\n",
       "    </tr>\n",
       "    <tr>\n",
       "      <th>2</th>\n",
       "      <td>10.122.1.103:54800</td>\n",
       "      <td>10.124.1.194:3128</td>\n",
       "      <td>VPN/NONVPN NETWORK APPLICATION TRAFFIC DATASET...</td>\n",
       "      <td>0,13,0 13,0,1.12245</td>\n",
       "      <td>nonvpn-netflix</td>\n",
       "    </tr>\n",
       "    <tr>\n",
       "      <th>3</th>\n",
       "      <td>10.122.1.103:54804</td>\n",
       "      <td>10.124.1.194:3128</td>\n",
       "      <td>VPN/NONVPN NETWORK APPLICATION TRAFFIC DATASET...</td>\n",
       "      <td>0,1,2 0,2,7682 0,3,0 0,4,0 0,5,105.429 0,6,1 0...</td>\n",
       "      <td>nonvpn-netflix</td>\n",
       "    </tr>\n",
       "    <tr>\n",
       "      <th>4</th>\n",
       "      <td>10.122.1.103:54798</td>\n",
       "      <td>10.124.1.194:3128</td>\n",
       "      <td>VPN/NONVPN NETWORK APPLICATION TRAFFIC DATASET...</td>\n",
       "      <td>0,1,3 0,2,3.5 0,3,0 0,4,0 0,5,1982.58 0,6,7.5 ...</td>\n",
       "      <td>nonvpn-netflix</td>\n",
       "    </tr>\n",
       "  </tbody>\n",
       "</table>\n",
       "</div>"
      ],
      "text/plain": [
       "               client             server  \\\n",
       "0  10.122.1.103:54802  10.124.1.194:3128   \n",
       "1  10.122.1.103:54800  10.124.1.194:3128   \n",
       "2  10.122.1.103:54800  10.124.1.194:3128   \n",
       "3  10.122.1.103:54804  10.124.1.194:3128   \n",
       "4  10.122.1.103:54798  10.124.1.194:3128   \n",
       "\n",
       "                                          datasource  \\\n",
       "0  VPN/NONVPN NETWORK APPLICATION TRAFFIC DATASET...   \n",
       "1  VPN/NONVPN NETWORK APPLICATION TRAFFIC DATASET...   \n",
       "2  VPN/NONVPN NETWORK APPLICATION TRAFFIC DATASET...   \n",
       "3  VPN/NONVPN NETWORK APPLICATION TRAFFIC DATASET...   \n",
       "4  VPN/NONVPN NETWORK APPLICATION TRAFFIC DATASET...   \n",
       "\n",
       "                                               graph           label  \n",
       "0  0,1,2 0,2,0.5 0,5,3851.33 0,6,9.5 0,8,5754 0,9...  nonvpn-netflix  \n",
       "1  0,1,5.25 0,2,0 0,3,2 0,5,3318.57 0,6,8.66667 0...  nonvpn-netflix  \n",
       "2                                0,13,0 13,0,1.12245  nonvpn-netflix  \n",
       "3  0,1,2 0,2,7682 0,3,0 0,4,0 0,5,105.429 0,6,1 0...  nonvpn-netflix  \n",
       "4  0,1,3 0,2,3.5 0,3,0 0,4,0 0,5,1982.58 0,6,7.5 ...  nonvpn-netflix  "
      ]
     },
     "execution_count": 4,
     "metadata": {},
     "output_type": "execute_result"
    }
   ],
   "source": [
    "df = pd.read_csv('graphs.csv')\n",
    "df.head(5)"
   ]
  },
  {
   "cell_type": "markdown",
   "metadata": {},
   "source": [
    "# Test GNN model"
   ]
  },
  {
   "cell_type": "code",
   "execution_count": null,
   "metadata": {},
   "outputs": [],
   "source": [
    "train_model()"
   ]
  },
  {
   "cell_type": "markdown",
   "metadata": {},
   "source": [
    "# Draw graphs"
   ]
  },
  {
   "cell_type": "code",
   "execution_count": null,
   "metadata": {},
   "outputs": [],
   "source": [
    "plt.figure(figsize=(12, 8))\n",
    "draw(df.iloc[4]['graph'])\n",
    "draw(df.iloc[5]['graph'])"
   ]
  }
 ],
 "metadata": {
  "kernelspec": {
   "display_name": "venv",
   "language": "python",
   "name": "python3"
  },
  "language_info": {
   "codemirror_mode": {
    "name": "ipython",
    "version": 3
   },
   "file_extension": ".py",
   "mimetype": "text/x-python",
   "name": "python",
   "nbconvert_exporter": "python",
   "pygments_lexer": "ipython3",
   "version": "3.9.4"
  }
 },
 "nbformat": 4,
 "nbformat_minor": 2
}
